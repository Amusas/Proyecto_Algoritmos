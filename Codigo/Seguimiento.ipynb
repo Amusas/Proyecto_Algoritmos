{
 "cells": [
  {
   "cell_type": "code",
   "execution_count": 1,
   "metadata": {},
   "outputs": [],
   "source": [
    "import pandas as pd\n",
    "import matplotlib.pyplot as plt"
   ]
  },
  {
   "cell_type": "code",
   "execution_count": 2,
   "metadata": {},
   "outputs": [],
   "source": [
    "import sys\n",
    "sys.setrecursionlimit(10000)"
   ]
  },
  {
   "cell_type": "markdown",
   "metadata": {},
   "source": [
    "Obtener las columnas como una lista, ejecutar esta parte del codigo para reiniciar las listas (que no esten ordenadas de nuevo)"
   ]
  },
  {
   "cell_type": "code",
   "execution_count": 3,
   "metadata": {},
   "outputs": [],
   "source": [
    "# Cargar los datos\n",
    "tabla = pd.read_csv('../CSV final/baseDatosFinal.csv')\n",
    "datos = pd.read_csv('../CSV final/seguimienti.csv')\n",
    "#algoritmos = pd.read_csv('../CSV final/algorithm_times.csv')\n",
    "\n",
    "algoritmos = pd.read_csv('../CSV final/algorithm_times.csv')\n",
    "\n",
    "#obtengo los valores de las columnas a ordenar\n",
    "listaFechas = tabla[\"Year\"].tolist()\n",
    "\n",
    "listaAutores = tabla[\"Authors\"].tolist()\n",
    "\n",
    "listaTitulos = tabla[\"Title\"].tolist()\n",
    "\n",
    "listaVolumen = tabla[\"Volume\"].tolist()\n",
    "\n",
    "listaArticulosCitacion = tabla[\"Article Citation Count\"].tolist()\n",
    "\n",
    "listaPalabrasClave = tabla[\"Keywords\"].tolist()\n",
    "\n",
    "listaDOI = tabla[\"DOI\"].tolist()\n",
    "\n",
    "listaEditores = tabla[\"Publisher\"].tolist()\n",
    "\n",
    "listaISSN = tabla[\"ISSN\"].tolist()\n",
    "\n",
    "listaISBN = tabla[\"ISBN\"].tolist()\n",
    "\n",
    "listaPalabrasClaveAutores = tabla[\"Author Keywords\"].tolist()\n",
    "\n",
    "\n"
   ]
  },
  {
   "cell_type": "code",
   "execution_count": 4,
   "metadata": {},
   "outputs": [],
   "source": [
    "listaFecha100 = listaFechas[:100]\n",
    "listaFecha1000= listaFechas[:1000]\n",
    "listaFecha5000= listaFechas[:5000]\n",
    "listaAutores100 = listaAutores[:100]\n",
    "listaAutores1000 = listaAutores[:1000]\n",
    "listaAutores5000 = listaAutores[:5000]"
   ]
  },
  {
   "cell_type": "markdown",
   "metadata": {},
   "source": [
    "Timsort"
   ]
  },
  {
   "cell_type": "code",
   "execution_count": 5,
   "metadata": {},
   "outputs": [],
   "source": [
    "# Python3 program to perform TimSort.  \n",
    "RUN = 32 \n",
    "    \n",
    "# This function sorts array from left index to  \n",
    "# to right index which is of size atmost RUN  \n",
    "def insertionSort(arr, left, right):  \n",
    "   \n",
    "    for i in range(left + 1, right+1):  \n",
    "       \n",
    "        temp = arr[i]  \n",
    "        j = i - 1 \n",
    "        while arr[j] > temp and j >= left:  \n",
    "           \n",
    "            arr[j+1] = arr[j]  \n",
    "            j -= 1\n",
    "           \n",
    "        arr[j+1] = temp  \n",
    "    \n",
    "# merge function merges the sorted runs  \n",
    "# merge function merges the sorted runs  \n",
    "def merge(arr, l, m, r): \n",
    "   \n",
    "    # original array is broken in two parts  \n",
    "    # left and right array  \n",
    "    len1, len2 =  m - l + 1, r - m  \n",
    "    left, right = [], []  \n",
    "    \n",
    "    # Ensure m and r are within bounds of the array\n",
    "    if l + len1 > len(arr):\n",
    "        len1 = len(arr) - l\n",
    "    if m + 1 + len2 > len(arr):\n",
    "        len2 = len(arr) - (m + 1)\n",
    "    \n",
    "    for i in range(0, len1):  \n",
    "        left.append(arr[l + i])  \n",
    "    for i in range(0, len2):  \n",
    "        right.append(arr[m + 1 + i])  \n",
    "    \n",
    "    i, j, k = 0, 0, l \n",
    "    # after comparing, we merge those two arrays  \n",
    "    while i < len1 and j < len2:  \n",
    "        if left[i] <= right[j]:  \n",
    "            arr[k] = left[i]  \n",
    "            i += 1 \n",
    "        else: \n",
    "            arr[k] = right[j]  \n",
    "            j += 1 \n",
    "        k += 1\n",
    "    \n",
    "    # copy remaining elements of left, if any  \n",
    "    while i < len1:  \n",
    "        arr[k] = left[i]  \n",
    "        k += 1 \n",
    "        i += 1\n",
    "    \n",
    "    # copy remaining elements of right, if any  \n",
    "    while j < len2:  \n",
    "        arr[k] = right[j]  \n",
    "        k += 1\n",
    "        j += 1\n",
    "      \n",
    "# iterative Timsort function to sort the  \n",
    "# array[0...n-1] (similar to merge sort)  \n",
    "def timSort(arr, n):  \n",
    "   \n",
    "    # Sort individual subarrays of size RUN  \n",
    "    for i in range(0, n, RUN):  \n",
    "        insertionSort(arr, i, min((i+31), (n-1)))  \n",
    "    \n",
    "    # start merging from size RUN (or 32). It will merge  \n",
    "    # to form size 64, then 128, 256 and so on ....  \n",
    "    size = RUN \n",
    "    while size < n:  \n",
    "       \n",
    "        # pick starting point of left sub array. We  \n",
    "        # are going to merge arr[left..left+size-1]  \n",
    "        # and arr[left+size, left+2*size-1]  \n",
    "        # After every merge, we increase left by 2*size  \n",
    "        for left in range(0, n, 2*size):  \n",
    "           \n",
    "            # find ending point of left sub array  \n",
    "            # mid+1 is starting point of right sub array  \n",
    "            mid = left + size - 1 \n",
    "            right = min((left + 2*size - 1), (n-1))  \n",
    "    \n",
    "            # merge sub array arr[left.....mid] &  \n",
    "            # arr[mid+1....right]  \n",
    "            merge(arr, left, mid, right)  \n",
    "          \n",
    "        size = 2*size\n",
    "        \n",
    "    return arr"
   ]
  },
  {
   "cell_type": "code",
   "execution_count": 6,
   "metadata": {},
   "outputs": [
    {
     "name": "stdout",
     "output_type": "stream",
     "text": [
      "Tiempo de ejecución: 7.7584 milisegundos\n"
     ]
    }
   ],
   "source": [
    "import timeit\n",
    "\n",
    "# Medir el tiempo de ejecución de timSort con enteros\n",
    "execution_time = round(timeit.timeit(\"timSort(listaFecha5000, len(listaFecha5000))\", \n",
    "                               setup=\"from __main__ import timSort, listaFecha5000\", \n",
    "                               number=1)*1000, 5)\n",
    "\n",
    "print(f\"Tiempo de ejecución: {execution_time} milisegundos\")\n"
   ]
  },
  {
   "cell_type": "code",
   "execution_count": 7,
   "metadata": {},
   "outputs": [
    {
     "name": "stdout",
     "output_type": "stream",
     "text": [
      "Tiempo de ejecución: 31.7778 milisegundos\n"
     ]
    }
   ],
   "source": [
    "import timeit\n",
    "\n",
    "# Medir el tiempo de ejecución de timSort con cadenas\n",
    "execution_time = round(timeit.timeit(\"timSort(listaAutores, len(listaAutores))\", \n",
    "                               setup=\"from __main__ import timSort, listaAutores\", \n",
    "                               number=1)*1000, 5)\n",
    "\n",
    "print(f\"Tiempo de ejecución: {execution_time} milisegundos\")\n"
   ]
  },
  {
   "cell_type": "code",
   "execution_count": 8,
   "metadata": {},
   "outputs": [
    {
     "name": "stdout",
     "output_type": "stream",
     "text": [
      "Tiempo de ejecución: 24.3087 milisegundos\n"
     ]
    }
   ],
   "source": [
    "import timeit\n",
    "\n",
    "# Medir el tiempo de ejecución de timSort con cadenas largas\n",
    "execution_time = round(timeit.timeit(\"timSort(listaPalabrasClaveAutores, len(listaPalabrasClaveAutores))\", \n",
    "                               setup=\"from __main__ import timSort, listaPalabrasClaveAutores\", \n",
    "                               number=1)*1000, 5)\n",
    "\n",
    "print(f\"Tiempo de ejecución: {execution_time} milisegundos\")\n"
   ]
  },
  {
   "cell_type": "markdown",
   "metadata": {},
   "source": [
    "Comb Sort"
   ]
  },
  {
   "cell_type": "code",
   "execution_count": 9,
   "metadata": {},
   "outputs": [],
   "source": [
    "# Python program for implementation of CombSort\n",
    "\n",
    "# To find next gap from current\n",
    "def getNextGap(gap):\n",
    "    # Shrink gap by Shrink factor\n",
    "    gap = (gap * 10) / 13\n",
    "    if gap < 1:\n",
    "        return 1\n",
    "    return int(gap)  # Convertir gap a entero\n",
    "\n",
    "# Function to sort arr[] using Comb Sort\n",
    "def combSort(arr):\n",
    "    n = len(arr)\n",
    "\n",
    "    # Initialize gap\n",
    "    gap = n\n",
    "\n",
    "    # Initialize swapped as true to make sure that\n",
    "    # loop runs\n",
    "    swapped = True\n",
    "\n",
    "    # Keep running while gap is more than 1 and last\n",
    "    # iteration caused a swap\n",
    "    while gap != 1 or swapped:\n",
    "        # Find next gap\n",
    "        gap = getNextGap(gap)\n",
    "\n",
    "        # Initialize swapped as false so that we can\n",
    "        # check if swap happened or not\n",
    "        swapped = False\n",
    "\n",
    "        # Compare all elements with current gap\n",
    "        for i in range(0, n - gap):\n",
    "            if arr[i] > arr[i + gap]:\n",
    "                arr[i], arr[i + gap] = arr[i + gap], arr[i]\n",
    "                swapped = True"
   ]
  },
  {
   "cell_type": "code",
   "execution_count": 10,
   "metadata": {},
   "outputs": [
    {
     "name": "stdout",
     "output_type": "stream",
     "text": [
      "Tiempo de ejecución: 10.3446 milisegundos\n"
     ]
    }
   ],
   "source": [
    "import timeit\n",
    "\n",
    "# Medir el tiempo de ejecución de combSort usando la lista de fechas\n",
    "execution_time = round(timeit.timeit(\"combSort(listaFecha5000)\", \n",
    "                               setup=\"from __main__ import combSort, listaFecha5000\", \n",
    "                               number=1)*1000, 5)\n",
    "\n",
    "print(f\"Tiempo de ejecución: {execution_time} milisegundos\")"
   ]
  },
  {
   "cell_type": "code",
   "execution_count": 11,
   "metadata": {},
   "outputs": [
    {
     "name": "stdout",
     "output_type": "stream",
     "text": [
      "Tiempo de ejecución: 35.7409 milisegundos\n"
     ]
    }
   ],
   "source": [
    "import timeit\n",
    "\n",
    "# Medir el tiempo de ejecución de combSort usando la lista de autores\n",
    "execution_time = round(timeit.timeit(\"combSort(listaAutores)\", \n",
    "                               setup=\"from __main__ import combSort, listaAutores\", \n",
    "                               number=1)*1000, 5)\n",
    "\n",
    "print(f\"Tiempo de ejecución: {execution_time} milisegundos\")"
   ]
  },
  {
   "cell_type": "code",
   "execution_count": 12,
   "metadata": {},
   "outputs": [
    {
     "name": "stdout",
     "output_type": "stream",
     "text": [
      "Tiempo de ejecución: 18.8785 milisegundos\n"
     ]
    }
   ],
   "source": [
    "import timeit\n",
    "\n",
    "# Medir el tiempo de ejecución de combSort usando la lista de palabras claves del autor\n",
    "execution_time = round(timeit.timeit(\"combSort(listaPalabrasClaveAutores)\", \n",
    "                               setup=\"from __main__ import combSort, listaPalabrasClaveAutores\", \n",
    "                               number=1)*1000, 5)\n",
    "\n",
    "print(f\"Tiempo de ejecución: {execution_time} milisegundos\")"
   ]
  },
  {
   "cell_type": "markdown",
   "metadata": {},
   "source": [
    "Selection Sort\n"
   ]
  },
  {
   "cell_type": "code",
   "execution_count": 13,
   "metadata": {},
   "outputs": [],
   "source": [
    "def selectionSort(l):\n",
    "    for start in range(len(l)):\n",
    "\n",
    "        #assign start value as minimum value\n",
    "        minpos=start\n",
    "        \n",
    "        for i in range(start,len(l)):\n",
    "            if(l[i]<l[minpos]):\n",
    "                minpos=i\n",
    "            \n",
    "        (l[start],l[minpos]) = (l[minpos],l[start])"
   ]
  },
  {
   "cell_type": "code",
   "execution_count": 14,
   "metadata": {},
   "outputs": [
    {
     "name": "stdout",
     "output_type": "stream",
     "text": [
      "Tiempo de ejecución: 2808.8669 milisegundos\n"
     ]
    }
   ],
   "source": [
    "import timeit\n",
    "\n",
    "# Medir el tiempo de ejecución usando lista de fechas\n",
    "execution_time = round(timeit.timeit(\"selectionSort(listaFechas)\", \n",
    "                               setup=\"from __main__ import selectionSort, listaFechas\", \n",
    "                               number=1)*1000, 5)\n",
    "\n",
    "print(f\"Tiempo de ejecución: {execution_time} milisegundos\")"
   ]
  },
  {
   "cell_type": "code",
   "execution_count": 15,
   "metadata": {},
   "outputs": [
    {
     "name": "stdout",
     "output_type": "stream",
     "text": [
      "Tiempo de ejecución: 0.2803 milisegundos\n"
     ]
    }
   ],
   "source": [
    "import timeit\n",
    "\n",
    "# Medir el tiempo de ejecución usando lista de autores\n",
    "execution_time = round(timeit.timeit(\"selectionSort(listaAutores100)\", \n",
    "                               setup=\"from __main__ import selectionSort, listaAutores100\", \n",
    "                               number=1)*1000, 5)\n",
    "\n",
    "print(f\"Tiempo de ejecución: {execution_time} milisegundos\")"
   ]
  },
  {
   "cell_type": "code",
   "execution_count": 16,
   "metadata": {},
   "outputs": [
    {
     "name": "stdout",
     "output_type": "stream",
     "text": [
      "Tiempo de ejecución: 3095.9061 milisegundos\n"
     ]
    }
   ],
   "source": [
    "import timeit\n",
    "\n",
    "# Medir el tiempo de ejecución usando lista de fechas\n",
    "execution_time = round(timeit.timeit(\"selectionSort(listaPalabrasClaveAutores)\", \n",
    "                               setup=\"from __main__ import selectionSort, listaPalabrasClaveAutores\", \n",
    "                               number=1)*1000, 5)\n",
    "\n",
    "print(f\"Tiempo de ejecución: {execution_time} milisegundos\")"
   ]
  },
  {
   "cell_type": "markdown",
   "metadata": {},
   "source": [
    "Tree Sort\n"
   ]
  },
  {
   "cell_type": "code",
   "execution_count": 17,
   "metadata": {},
   "outputs": [],
   "source": [
    "class TreeNode:\n",
    "    def __init__(self, key):\n",
    "        self.left = None\n",
    "        self.right = None\n",
    "        self.val = key\n",
    "\n",
    "def insert(root, key):\n",
    "    if root is None:\n",
    "        return TreeNode(key)\n",
    "    \n",
    "    if key < root.val:\n",
    "        root.left = insert(root.left, key)\n",
    "    else:\n",
    "        root.right = insert(root.right, key)\n",
    "    \n",
    "    return root\n",
    "\n",
    "def inorder_traversal(root, res):\n",
    "    if root:\n",
    "        inorder_traversal(root.left, res)\n",
    "        res.append(root.val)\n",
    "        inorder_traversal(root.right, res)\n",
    "\n",
    "def tree_sort(arr):\n",
    "    if not arr:\n",
    "        return arr\n",
    "    \n",
    "    root = None\n",
    "    for key in arr:\n",
    "        root = insert(root, key)\n",
    "    \n",
    "    sorted_arr = []\n",
    "    inorder_traversal(root, sorted_arr)\n",
    "    return sorted_arr"
   ]
  },
  {
   "cell_type": "code",
   "execution_count": 18,
   "metadata": {},
   "outputs": [
    {
     "name": "stdout",
     "output_type": "stream",
     "text": [
      "Tiempo de ejecución: 9880.0463 milisegundos\n"
     ]
    }
   ],
   "source": [
    "import timeit\n",
    "\n",
    "\n",
    "# Medir el tiempo de ejecución de fecha con tree_sort\n",
    "execution_time = round(timeit.timeit(\"tree_sort(listaFechas)\", \n",
    "                               setup=\"from __main__ import tree_sort, listaFechas\", \n",
    "                                  number=1)*1000,5)\n",
    "\n",
    "print(f\"Tiempo de ejecución: {execution_time} milisegundos\")"
   ]
  },
  {
   "cell_type": "code",
   "execution_count": 19,
   "metadata": {},
   "outputs": [
    {
     "name": "stdout",
     "output_type": "stream",
     "text": [
      "Tiempo de ejecución: 11211.3528 milisegundos\n"
     ]
    }
   ],
   "source": [
    "import timeit\n",
    "\n",
    "\n",
    "# Medir el tiempo de ejecución de tree_sort\n",
    "execution_time = round(timeit.timeit(\"tree_sort(listaAutores)\", \n",
    "                               setup=\"from __main__ import tree_sort, listaAutores\", \n",
    "                                  number=1)*1000,5)\n",
    "\n",
    "print(f\"Tiempo de ejecución: {execution_time} milisegundos\")"
   ]
  },
  {
   "cell_type": "code",
   "execution_count": 20,
   "metadata": {},
   "outputs": [
    {
     "name": "stdout",
     "output_type": "stream",
     "text": [
      "Tiempo de ejecución: 9122.0893 milisegundos\n"
     ]
    }
   ],
   "source": [
    "import timeit\n",
    "\n",
    "\n",
    "# Medir el tiempo de ejecución de tree_sort\n",
    "execution_time = round(timeit.timeit(\"tree_sort(listaPalabrasClaveAutores)\", \n",
    "                               setup=\"from __main__ import tree_sort, listaPalabrasClaveAutores\", \n",
    "                                  number=1)*1000,5)\n",
    "\n",
    "print(f\"Tiempo de ejecución: {execution_time} milisegundos\")"
   ]
  },
  {
   "cell_type": "markdown",
   "metadata": {},
   "source": [
    "PigeOnHole Sort"
   ]
  },
  {
   "cell_type": "code",
   "execution_count": 21,
   "metadata": {},
   "outputs": [],
   "source": [
    "def pigeonhole_sort(a, key=lambda x: x): \n",
    "    # Encontrar el mínimo y máximo utilizando la clave proporcionada\n",
    "    my_min = min(a, key=key)\n",
    "    my_max = max(a, key=key)\n",
    "\n",
    "    # Si la clave es una cadena, usamos `ord()` en el primer carácter\n",
    "    if isinstance(key(my_min), str) and isinstance(key(my_max), str):\n",
    "        size = ord(key(my_max)[0]) - ord(key(my_min)[0]) + 1\n",
    "    else:\n",
    "        size = key(my_max) - key(my_min) + 1\n",
    "  \n",
    "    # Crear los agujeros (pigeonholes)\n",
    "    holes = [[] for _ in range(size)] \n",
    "  \n",
    "    # Rellenar los agujeros con los elementos transformados por la clave\n",
    "    for x in a:\n",
    "        if isinstance(key(x), str):\n",
    "            index = ord(key(x)[0]) - ord(key(my_min)[0])  # Para cadenas\n",
    "        else:\n",
    "            index = key(x) - key(my_min)  # Para números\n",
    "        holes[index].append(x)\n",
    "  \n",
    "    # Poner los elementos ordenados de vuelta en la lista original\n",
    "    i = 0\n",
    "    for hole in holes: \n",
    "        for item in sorted(hole, key=key):  # Ordenar dentro del agujero usando la clave\n",
    "            a[i] = item\n",
    "            i += 1"
   ]
  },
  {
   "cell_type": "code",
   "execution_count": 22,
   "metadata": {},
   "outputs": [
    {
     "name": "stdout",
     "output_type": "stream",
     "text": [
      "Tiempo de ejecución: 4.0771 milisegundos\n"
     ]
    }
   ],
   "source": [
    "import timeit\n",
    "\n",
    "# Medir el tiempo de ejecución de PigeOnHole Sort\n",
    "execution_time = round(timeit.timeit(\"pigeonhole_sort(listaFechas)\", \n",
    "                               setup=\"from __main__ import pigeonhole_sort, listaFechas\", \n",
    "                               number=1)*1000,5)\n",
    "\n",
    "print(f\"Tiempo de ejecución: {execution_time} milisegundos\")"
   ]
  },
  {
   "cell_type": "code",
   "execution_count": 23,
   "metadata": {},
   "outputs": [
    {
     "name": "stdout",
     "output_type": "stream",
     "text": [
      "Tiempo de ejecución: 5.814 milisegundos\n"
     ]
    }
   ],
   "source": [
    "import timeit\n",
    "\n",
    "# Medir el tiempo de ejecución de PigeOnHole Sort\n",
    "execution_time = round(timeit.timeit(\"pigeonhole_sort(listaAutores)\", \n",
    "                               setup=\"from __main__ import pigeonhole_sort, listaAutores\", \n",
    "                               number=1)*1000,5)\n",
    "\n",
    "print(f\"Tiempo de ejecución: {execution_time} milisegundos\")"
   ]
  },
  {
   "cell_type": "code",
   "execution_count": 24,
   "metadata": {},
   "outputs": [
    {
     "name": "stdout",
     "output_type": "stream",
     "text": [
      "Tiempo de ejecución: 4.2001 milisegundos\n"
     ]
    }
   ],
   "source": [
    "import timeit\n",
    "\n",
    "# Medir el tiempo de ejecución de PigeOnHole Sort\n",
    "execution_time = round(timeit.timeit(\"pigeonhole_sort(listaPalabrasClaveAutores)\", \n",
    "                               setup=\"from __main__ import pigeonhole_sort, listaPalabrasClaveAutores\", \n",
    "                               number=1)*1000,5)\n",
    "\n",
    "print(f\"Tiempo de ejecución: {execution_time} milisegundos\")"
   ]
  },
  {
   "cell_type": "markdown",
   "metadata": {},
   "source": [
    "Bucket Sort"
   ]
  },
  {
   "cell_type": "code",
   "execution_count": 25,
   "metadata": {},
   "outputs": [],
   "source": [
    "def bucket_sort(array, key=lambda x: x):\n",
    "    # Encontrar el valor máximo basado en la clave\n",
    "    max_value = max(array, key=key)\n",
    "\n",
    "    # Crear los buckets vacíos\n",
    "    bucket = [[] for _ in range(len(array))]\n",
    "\n",
    "    # Insertar los elementos en los buckets respectivos\n",
    "    for item in array:\n",
    "        # Normalizar para cadenas y números\n",
    "        if isinstance(key(item), str):\n",
    "            index_b = int(ord(key(item)[0]) / ord(key(max_value)[0]) * (len(array) - 1))\n",
    "        else:\n",
    "            index_b = int(key(item) / key(max_value) * (len(array) - 1))\n",
    "        bucket[index_b].append(item)\n",
    "\n",
    "    # Ordenar los elementos dentro de cada bucket\n",
    "    for i in range(len(array)):\n",
    "        bucket[i] = sorted(bucket[i], key=key)\n",
    "\n",
    "    # Obtener los elementos ordenados\n",
    "    k = 0\n",
    "    for i in range(len(array)):\n",
    "        for j in range(len(bucket[i])):\n",
    "            array[k] = bucket[i][j]\n",
    "            k += 1\n",
    "    \n",
    "    return array\n"
   ]
  },
  {
   "cell_type": "code",
   "execution_count": 26,
   "metadata": {},
   "outputs": [
    {
     "name": "stdout",
     "output_type": "stream",
     "text": [
      "Tiempo de ejecución: 8.9287 milisegundos\n"
     ]
    }
   ],
   "source": [
    "import timeit\n",
    "\n",
    "# Medir el tiempo de ejecución de bucket_sort\n",
    "execution_time = round(timeit.timeit(\"bucket_sort(listaFechas)\", \n",
    "                               setup=\"from __main__ import bucket_sort, listaFechas\", \n",
    "                               number=1)*1000,5)\n",
    "\n",
    "print(f\"Tiempo de ejecución: {execution_time} milisegundos\")"
   ]
  },
  {
   "cell_type": "code",
   "execution_count": 27,
   "metadata": {},
   "outputs": [
    {
     "name": "stdout",
     "output_type": "stream",
     "text": [
      "Tiempo de ejecución: 10.674 milisegundos\n"
     ]
    }
   ],
   "source": [
    "import timeit\n",
    "\n",
    "# Medir el tiempo de ejecución de bucket_sort\n",
    "execution_time = round(timeit.timeit(\"bucket_sort(listaAutores)\", \n",
    "                               setup=\"from __main__ import bucket_sort, listaAutores\", \n",
    "                               number=1)*1000,5)\n",
    "\n",
    "print(f\"Tiempo de ejecución: {execution_time} milisegundos\")"
   ]
  },
  {
   "cell_type": "code",
   "execution_count": 28,
   "metadata": {},
   "outputs": [
    {
     "name": "stdout",
     "output_type": "stream",
     "text": [
      "Tiempo de ejecución: 8.5806 milisegundos\n"
     ]
    }
   ],
   "source": [
    "import timeit\n",
    "\n",
    "# Medir el tiempo de ejecución de bucket_sort\n",
    "execution_time = round(timeit.timeit(\"bucket_sort(listaPalabrasClaveAutores)\", \n",
    "                               setup=\"from __main__ import bucket_sort, listaPalabrasClaveAutores\", \n",
    "                               number=1)*1000,5)\n",
    "\n",
    "print(f\"Tiempo de ejecución: {execution_time} milisegundos\")"
   ]
  },
  {
   "cell_type": "markdown",
   "metadata": {},
   "source": [
    "Quick Sort"
   ]
  },
  {
   "cell_type": "code",
   "execution_count": 29,
   "metadata": {},
   "outputs": [],
   "source": [
    "# Python program for implementation of Quicksort Sort\n",
    "\n",
    "# This implementation utilizes pivot as the last element in the nums list\n",
    "# It has a pointer to keep track of the elements smaller than the pivot\n",
    "# At the very end of partition() function, the pointer is swapped with the pivot\n",
    "# to come up with a \"sorted\" nums relative to the pivot\n",
    "\n",
    "\n",
    "# Function to find the partition position\n",
    "def partition(array, low, high):\n",
    "\n",
    "    # choose the rightmost element as pivot\n",
    "    pivot = array[high]\n",
    "\n",
    "    # pointer for greater element\n",
    "    i = low - 1\n",
    "\n",
    "    # traverse through all elements\n",
    "    # compare each element with pivot\n",
    "    for j in range(low, high):\n",
    "        if array[j] <= pivot:\n",
    "\n",
    "            # If element smaller than pivot is found\n",
    "            # swap it with the greater element pointed by i\n",
    "            i = i + 1\n",
    "\n",
    "            # Swapping element at i with element at j\n",
    "            (array[i], array[j]) = (array[j], array[i])\n",
    "\n",
    "    # Swap the pivot element with the greater element specified by i\n",
    "    (array[i + 1], array[high]) = (array[high], array[i + 1])\n",
    "\n",
    "    # Return the position from where partition is done\n",
    "    return i + 1\n",
    "\n",
    "# function to perform quicksort\n",
    "\n",
    "\n",
    "def quickSortRun(array, low, high):\n",
    "    if low < high:\n",
    "\n",
    "        # Find pivot element such that\n",
    "        # element smaller than pivot are on the left\n",
    "        # element greater than pivot are on the right\n",
    "        pi = partition(array, low, high)\n",
    "\n",
    "        # Recursive call on the left of pivot\n",
    "        quickSortRun(array, low, pi - 1)\n",
    "\n",
    "        # Recursive call on the right of pivot\n",
    "        quickSortRun(array, pi + 1, high)\n",
    "\n",
    "\n",
    "def quickSort(array):\n",
    "    quickSortRun(array, 0, len(array)-1)"
   ]
  },
  {
   "cell_type": "code",
   "execution_count": 30,
   "metadata": {},
   "outputs": [
    {
     "name": "stdout",
     "output_type": "stream",
     "text": [
      "Tiempo de ejecución: 5240.6395 milisegundos\n"
     ]
    }
   ],
   "source": [
    "import timeit\n",
    "\n",
    "# Medir el tiempo de ejecución de quick_sort\n",
    "execution_time = round(timeit.timeit(\"quickSort(listaFechas)\", \n",
    "                               setup=\"from __main__ import quickSort, listaFechas\", \n",
    "                               number=1)*1000,5)\n",
    "\n",
    "print(f\"Tiempo de ejecución: {execution_time} milisegundos\")"
   ]
  },
  {
   "cell_type": "code",
   "execution_count": 31,
   "metadata": {},
   "outputs": [
    {
     "name": "stdout",
     "output_type": "stream",
     "text": [
      "Tiempo de ejecución: 7387.177 milisegundos\n"
     ]
    }
   ],
   "source": [
    "import timeit\n",
    "\n",
    "# Medir el tiempo de ejecución de quick_sort\n",
    "execution_time = round(timeit.timeit(\"quickSort(listaAutores)\", \n",
    "                               setup=\"from __main__ import quickSort, listaAutores\", \n",
    "                               number=1)*1000,5)\n",
    "\n",
    "print(f\"Tiempo de ejecución: {execution_time} milisegundos\")"
   ]
  },
  {
   "cell_type": "code",
   "execution_count": 32,
   "metadata": {},
   "outputs": [
    {
     "name": "stdout",
     "output_type": "stream",
     "text": [
      "Tiempo de ejecución: 6272.9528 milisegundos\n"
     ]
    }
   ],
   "source": [
    "import timeit\n",
    "\n",
    "# Medir el tiempo de ejecución de quick_sort\n",
    "execution_time = round(timeit.timeit(\"quickSort(listaPalabrasClaveAutores)\", \n",
    "                               setup=\"from __main__ import quickSort, listaPalabrasClaveAutores\", \n",
    "                               number=1)*1000,5)\n",
    "\n",
    "print(f\"Tiempo de ejecución: {execution_time} milisegundos\")"
   ]
  },
  {
   "cell_type": "markdown",
   "metadata": {},
   "source": [
    "HeapSort"
   ]
  },
  {
   "cell_type": "code",
   "execution_count": 33,
   "metadata": {},
   "outputs": [],
   "source": [
    "# Python program for implementation of heap Sort \n",
    "  \n",
    "# To heapify subtree rooted at index i. \n",
    "# n is size of heap \n",
    "def heapify(arr, n, i): \n",
    "    largest = i # Initialize largest as root \n",
    "    l = 2 * i + 1     # left = 2*i + 1 \n",
    "    r = 2 * i + 2     # right = 2*i + 2 \n",
    "  \n",
    "    # See if left child of root exists and is \n",
    "    # greater than root \n",
    "    if l < n and arr[i] < arr[l]: \n",
    "        largest = l \n",
    "  \n",
    "    # See if right child of root exists and is \n",
    "    # greater than root \n",
    "    if r < n and arr[largest] < arr[r]: \n",
    "        largest = r \n",
    "  \n",
    "    # Change root, if needed \n",
    "    if largest != i: \n",
    "        arr[i],arr[largest] = arr[largest],arr[i] # swap \n",
    "  \n",
    "        # Heapify the root. \n",
    "        heapify(arr, n, largest) \n",
    "  \n",
    "# The main function to sort an array of given size \n",
    "def heapSort(arr): \n",
    "    n = len(arr) \n",
    "  \n",
    "    # Build a maxheap. \n",
    "    for i in range(n, -1, -1): \n",
    "        heapify(arr, n, i) \n",
    "  \n",
    "    # One by one extract elements \n",
    "    for i in range(n-1, 0, -1): \n",
    "        arr[i], arr[0] = arr[0], arr[i] # swap \n",
    "        heapify(arr, i, 0) "
   ]
  },
  {
   "cell_type": "code",
   "execution_count": 34,
   "metadata": {},
   "outputs": [
    {
     "name": "stdout",
     "output_type": "stream",
     "text": [
      "Tiempo de ejecución: 16.834 milisegundos\n"
     ]
    }
   ],
   "source": [
    "import timeit\n",
    "\n",
    "# Medir el tiempo de ejecución de HeapSort\n",
    "execution_time = round(timeit.timeit(\"heapSort(listaFecha5000)\", \n",
    "                               setup=\"from __main__ import heapSort, listaFecha5000\", \n",
    "                               number=1)*1000, 5)\n",
    "\n",
    "print(f\"Tiempo de ejecución: {execution_time} milisegundos\")"
   ]
  },
  {
   "cell_type": "code",
   "execution_count": 35,
   "metadata": {},
   "outputs": [
    {
     "name": "stdout",
     "output_type": "stream",
     "text": [
      "Tiempo de ejecución: 20.9714 milisegundos\n"
     ]
    }
   ],
   "source": [
    "import timeit\n",
    "\n",
    "# Medir el tiempo de ejecución de HeapSort\n",
    "execution_time = round(timeit.timeit(\"heapSort(listaAutores5000)\", \n",
    "                               setup=\"from __main__ import heapSort, listaAutores5000\", \n",
    "                               number=1)*1000, 5)\n",
    "\n",
    "print(f\"Tiempo de ejecución: {execution_time} milisegundos\")"
   ]
  },
  {
   "cell_type": "code",
   "execution_count": 36,
   "metadata": {},
   "outputs": [
    {
     "name": "stdout",
     "output_type": "stream",
     "text": [
      "Tiempo de ejecución: 18.2534 milisegundos\n"
     ]
    }
   ],
   "source": [
    "import timeit\n",
    "\n",
    "# Medir el tiempo de ejecución de HeapSort\n",
    "execution_time = round(timeit.timeit(\"heapSort(listaPalabrasClaveAutores)\", \n",
    "                               setup=\"from __main__ import heapSort, listaPalabrasClaveAutores\", \n",
    "                               number=1)*1000, 5)\n",
    "\n",
    "print(f\"Tiempo de ejecución: {execution_time} milisegundos\")"
   ]
  },
  {
   "cell_type": "markdown",
   "metadata": {},
   "source": [
    "Bitonic Sort"
   ]
  },
  {
   "cell_type": "code",
   "execution_count": 37,
   "metadata": {},
   "outputs": [],
   "source": [
    "def compAndSwap(a, i, j, dire):\n",
    "    if (dire == 1 and a[i] > a[j]) or (dire == 0 and a[i] > a[j]):\n",
    "        a[i], a[j] = a[j], a[i]\n",
    " \n",
    "# It recursively sorts a bitonic sequence in ascending order,\n",
    "# if dir = 1, and in descending order otherwise (means dir=0).\n",
    "# The sequence to be sorted starts at index position low,\n",
    "# the parameter cnt is the number of elements to be sorted.\n",
    " \n",
    " \n",
    "def bitonicMerge(a, low, cnt, dire):\n",
    "    if cnt > 1:\n",
    "        k = cnt//2\n",
    "        for i in range(low, low+k):\n",
    "            compAndSwap(a, i, i+k, dire)\n",
    "        bitonicMerge(a, low, k, dire)\n",
    "        bitonicMerge(a, low+k, k, dire)\n",
    " \n",
    "# This function first produces a bitonic sequence by recursively\n",
    "# sorting its two halves in opposite sorting orders, and then\n",
    "# calls bitonicMerge to make them in the same order\n",
    " \n",
    " \n",
    "def bitonicSort(a, low, cnt, dire):\n",
    "    if cnt > 1:\n",
    "        k = cnt//2\n",
    "        bitonicSort(a, low, k, 1)\n",
    "        bitonicSort(a, low+k, k, 0)\n",
    "        bitonicMerge(a, low, cnt, dire)\n",
    " \n",
    "# Caller of bitonicSort for sorting the entire array of length N\n",
    "# in ASCENDING order\n",
    " \n",
    " \n",
    "def sort(a, N, up):\n",
    "    bitonicSort(a, 0, N, up)"
   ]
  },
  {
   "cell_type": "code",
   "execution_count": 38,
   "metadata": {},
   "outputs": [
    {
     "name": "stdout",
     "output_type": "stream",
     "text": [
      "Tiempo de ejecución: 87.4762 milisegundos\n"
     ]
    }
   ],
   "source": [
    "import timeit\n",
    "\n",
    "# Medir el tiempo de ejecución de Bitonic Sort\n",
    "\n",
    "execution_time = round(timeit.timeit(\"sort(listaFechas,len(listaFechas),1)\", \n",
    "                               setup=\"from __main__ import sort, listaFechas\", \n",
    "                               number=1)*1000, 5)\n",
    "\n",
    "print(f\"Tiempo de ejecución: {execution_time} milisegundos\")"
   ]
  },
  {
   "cell_type": "code",
   "execution_count": 39,
   "metadata": {},
   "outputs": [
    {
     "name": "stdout",
     "output_type": "stream",
     "text": [
      "Tiempo de ejecución: 147.4601 milisegundos\n"
     ]
    }
   ],
   "source": [
    "import timeit\n",
    "\n",
    "# Medir el tiempo de ejecución de Bitonic Sort\n",
    "\n",
    "execution_time = round(timeit.timeit(\"sort(listaAutores,len(listaAutores),1)\", \n",
    "                               setup=\"from __main__ import sort, listaAutores\", \n",
    "                               number=1)*1000, 5)\n",
    "\n",
    "print(f\"Tiempo de ejecución: {execution_time} milisegundos\")"
   ]
  },
  {
   "cell_type": "code",
   "execution_count": 40,
   "metadata": {},
   "outputs": [
    {
     "name": "stdout",
     "output_type": "stream",
     "text": [
      "Tiempo de ejecución: 115.8231 milisegundos\n"
     ]
    }
   ],
   "source": [
    "import timeit\n",
    "\n",
    "# Medir el tiempo de ejecución de Bitonic Sort\n",
    "\n",
    "execution_time = round(timeit.timeit(\"sort(listaPalabrasClaveAutores,len(listaPalabrasClaveAutores),1)\", \n",
    "                               setup=\"from __main__ import sort, listaPalabrasClaveAutores\", \n",
    "                               number=1)*1000, 5)\n",
    "\n",
    "print(f\"Tiempo de ejecución: {execution_time} milisegundos\")"
   ]
  },
  {
   "cell_type": "markdown",
   "metadata": {},
   "source": [
    "Gnome Sort"
   ]
  },
  {
   "cell_type": "code",
   "execution_count": 41,
   "metadata": {},
   "outputs": [],
   "source": [
    "def swapPositions(list,posA, posB):\n",
    "    list[posA], list[posB] = list[posB], list[posA]\n",
    "    return list\n",
    "\n",
    "def gnomeSort(listToBeSorted):\n",
    "    position = 0\n",
    "    while position < len(listToBeSorted):\n",
    "        if position == 0 or listToBeSorted[position] >= listToBeSorted[position - 1]:\n",
    "            position = position +1\n",
    "        else:\n",
    "            swapPositions(listToBeSorted, position, position -1)\n",
    "            position = position -1\n",
    "\n",
    "    return listToBeSorted"
   ]
  },
  {
   "cell_type": "code",
   "execution_count": 42,
   "metadata": {},
   "outputs": [
    {
     "name": "stdout",
     "output_type": "stream",
     "text": [
      "Tiempo de ejecución: 0.8913 milisegundos\n"
     ]
    }
   ],
   "source": [
    "import timeit\n",
    "\n",
    "# Medir el tiempo de ejecución de Gnome Sort\n",
    "\n",
    "execution_time = round(timeit.timeit(\"gnomeSort(listaFecha5000)\", \n",
    "                               setup=\"from __main__ import gnomeSort, listaFecha5000\", \n",
    "                               number=1)*1000, 5)\n",
    "\n",
    "\n",
    "print(f\"Tiempo de ejecución: {execution_time} milisegundos\")"
   ]
  },
  {
   "cell_type": "code",
   "execution_count": 43,
   "metadata": {},
   "outputs": [
    {
     "name": "stdout",
     "output_type": "stream",
     "text": [
      "Tiempo de ejecución: 4.545 milisegundos\n"
     ]
    }
   ],
   "source": [
    "import timeit\n",
    "\n",
    "# Medir el tiempo de ejecución de Gnome Sort\n",
    "\n",
    "execution_time = round(timeit.timeit(\"gnomeSort(listaAutores)\", \n",
    "                               setup=\"from __main__ import gnomeSort, listaAutores\", \n",
    "                               number=1)*1000, 5)\n",
    "\n",
    "\n",
    "print(f\"Tiempo de ejecución: {execution_time} milisegundos\")"
   ]
  },
  {
   "cell_type": "code",
   "execution_count": 44,
   "metadata": {},
   "outputs": [
    {
     "name": "stdout",
     "output_type": "stream",
     "text": [
      "Tiempo de ejecución: 1.7142 milisegundos\n"
     ]
    }
   ],
   "source": [
    "import timeit\n",
    "\n",
    "# Medir el tiempo de ejecución de Gnome Sort\n",
    "\n",
    "execution_time = round(timeit.timeit(\"gnomeSort(listaPalabrasClaveAutores)\", \n",
    "                               setup=\"from __main__ import gnomeSort, listaPalabrasClaveAutores\", \n",
    "                               number=1)*1000, 5)\n",
    "\n",
    "\n",
    "print(f\"Tiempo de ejecución: {execution_time} milisegundos\")"
   ]
  },
  {
   "cell_type": "markdown",
   "metadata": {},
   "source": [
    "Binary Insertion Sort"
   ]
  },
  {
   "cell_type": "code",
   "execution_count": 45,
   "metadata": {},
   "outputs": [],
   "source": [
    "def binary_search(arr, val, start, end):\n",
    "    # we need to distinguish whether we should insert\n",
    "    # before or after the left boundary.\n",
    "    # imagine [0] is the last step of the binary search\n",
    "    # and we need to decide where to insert -1\n",
    "    if start == end:\n",
    "        if arr[start] > val:\n",
    "            return start\n",
    "        else:\n",
    "            return start+1\n",
    " \n",
    "    # this occurs if we are moving beyond left\\'s boundary\n",
    "    # meaning the left boundary is the least position to\n",
    "    # find a number greater than val\n",
    "    if start > end:\n",
    "        return start\n",
    " \n",
    "    mid = (start+end)//2\n",
    "    if arr[mid] < val:\n",
    "        return binary_search(arr, val, mid+1, end)\n",
    "    elif arr[mid] > val:\n",
    "        return binary_search(arr, val, start, mid-1)\n",
    "    else:\n",
    "        return mid\n",
    " \n",
    "def insertion_sort(arr):\n",
    "    for i in range(1, len(arr)):\n",
    "        val = arr[i]\n",
    "        j = binary_search(arr, val, 0, i-1)\n",
    "        arr = arr[:j] + [val] + arr[j:i] + arr[i+1:]\n",
    "    return arr"
   ]
  },
  {
   "cell_type": "code",
   "execution_count": 46,
   "metadata": {},
   "outputs": [
    {
     "name": "stdout",
     "output_type": "stream",
     "text": [
      "Tiempo de ejecución: 1203.6714 milisegundos\n"
     ]
    }
   ],
   "source": [
    "import timeit\n",
    "\n",
    "# Medir el tiempo de ejecución de Binary Insertion Sort\n",
    "\n",
    "execution_time = round(timeit.timeit(\"insertion_sort(listaFechas)\", \n",
    "                               setup=\"from __main__ import insertion_sort, listaFechas\", \n",
    "                               number=1)*1000, 5)\n",
    "\n",
    "print(f\"Tiempo de ejecución: {execution_time} milisegundos\")"
   ]
  },
  {
   "cell_type": "code",
   "execution_count": 47,
   "metadata": {},
   "outputs": [
    {
     "name": "stdout",
     "output_type": "stream",
     "text": [
      "Tiempo de ejecución: 1528.1021 milisegundos\n"
     ]
    }
   ],
   "source": [
    "import timeit\n",
    "\n",
    "# Medir el tiempo de ejecución de Binary Insertion Sort\n",
    "\n",
    "execution_time = round(timeit.timeit(\"insertion_sort(listaAutores)\", \n",
    "                               setup=\"from __main__ import insertion_sort, listaAutores\", \n",
    "                               number=1)*1000, 5)\n",
    "\n",
    "print(f\"Tiempo de ejecución: {execution_time} milisegundos\")"
   ]
  },
  {
   "cell_type": "code",
   "execution_count": 48,
   "metadata": {},
   "outputs": [
    {
     "name": "stdout",
     "output_type": "stream",
     "text": [
      "Tiempo de ejecución: 1192.5151 milisegundos\n"
     ]
    }
   ],
   "source": [
    "import timeit\n",
    "\n",
    "# Medir el tiempo de ejecución de Binary Insertion Sort\n",
    "\n",
    "execution_time = round(timeit.timeit(\"insertion_sort(listaPalabrasClaveAutores)\", \n",
    "                               setup=\"from __main__ import insertion_sort, listaPalabrasClaveAutores\", \n",
    "                               number=1)*1000, 5)\n",
    "\n",
    "print(f\"Tiempo de ejecución: {execution_time} milisegundos\")"
   ]
  },
  {
   "cell_type": "markdown",
   "metadata": {},
   "source": [
    "RadixSort"
   ]
  },
  {
   "cell_type": "code",
   "execution_count": 49,
   "metadata": {},
   "outputs": [],
   "source": [
    "def radix_sort(arr, key=lambda x: x):\n",
    "    # Determinar la longitud máxima a considerar\n",
    "    max_length = max(len(str(key(item))) for item in arr)\n",
    "    placement = 1\n",
    "\n",
    "    def get_char_at_position(item, pos):\n",
    "        \"\"\"Obtener el carácter o dígito en la posición `pos` desde la derecha.\"\"\"\n",
    "        string_rep = str(key(item))\n",
    "        if len(string_rep) < pos + 1:\n",
    "            return 0  # Si la posición no existe, retornar 0 (valor bajo)\n",
    "        return ord(string_rep[-(pos + 1)]) if isinstance(key(item), str) else (key(item) // placement) % 10\n",
    "\n",
    "    # Identificar si se está trabajando con cadenas o números\n",
    "    is_str = isinstance(key(arr[0]), str)\n",
    "\n",
    "    # Calcular el valor máximo posible en la lista\n",
    "    if is_str:\n",
    "        max_char_value = max(ord(max(key(item))) for item in arr)  # Máximo valor ASCII\n",
    "    else:\n",
    "        max_char_value = 9  # Para números, máximo valor es 9\n",
    "\n",
    "    # Realizar el Radix Sort\n",
    "    for pos in range(max_length):\n",
    "        buckets = [[] for _ in range(max_char_value + 1)]  # Crear suficientes buckets\n",
    "        for item in arr:\n",
    "            char_val = get_char_at_position(item, pos)\n",
    "            buckets[char_val].append(item)\n",
    "\n",
    "        # Recombinar los buckets en el array original\n",
    "        element = 0\n",
    "        for bucket in buckets:\n",
    "            for item in bucket:\n",
    "                arr[element] = item\n",
    "                element += 1\n",
    "\n",
    "        placement *= 10\n",
    "\n",
    "    return arr"
   ]
  },
  {
   "cell_type": "code",
   "execution_count": 50,
   "metadata": {},
   "outputs": [
    {
     "name": "stdout",
     "output_type": "stream",
     "text": [
      "Tiempo de ejecución: 22.0493 milisegundos\n"
     ]
    }
   ],
   "source": [
    "import timeit\n",
    "\n",
    "# Medir el tiempo de ejecución de RadixSort\n",
    "\n",
    "execution_time = round(timeit.timeit(\"radix_sort(listaFecha5000)\", \n",
    "                               setup=\"from __main__ import radix_sort, listaFecha5000\", \n",
    "                               number=1)*1000, 5)\n",
    "\n",
    "print(f\"Tiempo de ejecución: {execution_time} milisegundos\")"
   ]
  },
  {
   "cell_type": "code",
   "execution_count": 51,
   "metadata": {},
   "outputs": [
    {
     "name": "stdout",
     "output_type": "stream",
     "text": [
      "Tiempo de ejecución: 39925.9195 milisegundos\n"
     ]
    }
   ],
   "source": [
    "import timeit\n",
    "\n",
    "# Medir el tiempo de ejecución de RadixSort\n",
    "\n",
    "execution_time = round(timeit.timeit(\"radix_sort(listaAutores)\", \n",
    "                               setup=\"from __main__ import radix_sort, listaAutores\", \n",
    "                               number=1)*1000, 5) \n",
    "\n",
    "print(f\"Tiempo de ejecución: {execution_time} milisegundos\")"
   ]
  },
  {
   "cell_type": "code",
   "execution_count": 52,
   "metadata": {},
   "outputs": [
    {
     "name": "stdout",
     "output_type": "stream",
     "text": [
      "Tiempo de ejecución: 1722.2709 milisegundos\n"
     ]
    }
   ],
   "source": [
    "import timeit\n",
    "\n",
    "# Medir el tiempo de ejecución de RadixSort\n",
    "\n",
    "execution_time = round(timeit.timeit(\"radix_sort(listaPalabrasClaveAutores)\", \n",
    "                               setup=\"from __main__ import radix_sort, listaPalabrasClaveAutores\", \n",
    "                               number=1)*1000, 5)\n",
    "\n",
    "print(f\"Tiempo de ejecución: {execution_time} milisegundos\")"
   ]
  },
  {
   "cell_type": "code",
   "execution_count": 53,
   "metadata": {},
   "outputs": [
    {
     "data": {
      "text/plain": [
       "18.22776"
      ]
     },
     "execution_count": 53,
     "metadata": {},
     "output_type": "execute_result"
    }
   ],
   "source": [
    "# Nueva lista de datos proporcionados\n",
    "nuevos_datos = [19.2498, 20.7309, 18.1901, 20.4711, 12.4969]\n",
    "\n",
    "# Calcular la media de los nuevos datos\n",
    "media_nueva = sum(nuevos_datos) / len(nuevos_datos)\n",
    "media_nueva"
   ]
  },
  {
   "cell_type": "code",
   "execution_count": 54,
   "metadata": {},
   "outputs": [
    {
     "data": {
      "image/png": "[encoded data removed]",
      "text/plain": [
       "<Figure size 1000x600 with 1 Axes>"
      ]
     },
     "metadata": {},
     "output_type": "display_data"
    }
   ],
   "source": [
    "df = pd.read_csv('../CSV final/autores.csv')\n",
    "# Ordenar el dataframe de acuerdo a 't(n)' de menor a mayor\n",
    "df_sorted = df.sort_values(by='t(n)', ascending=True)\n",
    "\n",
    "# Crear el gráfico\n",
    "plt.figure(figsize=(10,6))\n",
    "plt.bar(df_sorted['algoritmo'], df_sorted['t(n)'], color='skyblue')\n",
    "plt.xlabel('Algoritmo')\n",
    "plt.ylabel('Tiempo de ejecución (ms)')\n",
    "plt.title('Tiempos de Ejecución de Algoritmos Ordenando Keywords (ms)')\n",
    "plt.xticks(rotation=45, ha='right')\n",
    "plt.tight_layout()\n",
    "\n",
    "# Mostrar el gráfico\n",
    "plt.show()"
   ]
  },
  {
   "cell_type": "code",
   "execution_count": 55,
   "metadata": {},
   "outputs": [
    {
     "data": {
      "image/png": "[encoded data removed]",
      "text/plain": [
       "<Figure size 1000x600 with 1 Axes>"
      ]
     },
     "metadata": {},
     "output_type": "display_data"
    }
   ],
   "source": [
    "# Crear un gráfico de líneas para el tiempo de ejecución por algoritmo y tamaño n\n",
    "\n",
    "# Configurar el gráfico\n",
    "plt.figure(figsize=(10, 6))\n",
    "\n",
    "# Graficar cada algoritmo\n",
    "for algoritmo in algoritmos['Algoritmo/n']:\n",
    "    plt.plot(algoritmos.columns[1:], algoritmos.loc[algoritmos['Algoritmo/n'] == algoritmo].values[0][1:], marker='o', label=algoritmo)\n",
    "\n",
    "# Configurar etiquetas y título\n",
    "plt.xlabel('n')\n",
    "plt.ylabel('Tiempo de Ejecución (ms)')\n",
    "plt.title('Tiempo de Ejecución por Algoritmo y n')\n",
    "plt.xticks(algoritmos.columns[1:], rotation=45)  # Ajustar etiquetas del eje x\n",
    "plt.grid(True)\n",
    "plt.legend(title='Algoritmo/n')\n",
    "plt.show()"
   ]
  }
 ],
 "metadata": {
  "kernelspec": {
   "display_name": "Python 3",
   "language": "python",
   "name": "python3"
  },
  "language_info": {
   "codemirror_mode": {
    "name": "ipython",
    "version": 3
   },
   "file_extension": ".py",
   "mimetype": "text/x-python",
   "name": "python",
   "nbconvert_exporter": "python",
   "pygments_lexer": "ipython3",
   "version": "3.12.6"
  }
 },
 "nbformat": 4,
 "nbformat_minor": 2
}
