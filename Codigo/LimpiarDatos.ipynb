{
 "cells": [
  {
   "cell_type": "markdown",
   "metadata": {},
   "source": [
    "Este Codigo es Para Unir todos los Resultados en un solo CSV\n"
   ]
  },
  {
   "cell_type": "code",
   "execution_count": 1,
   "metadata": {},
   "outputs": [],
   "source": [
    "import pandas as pd\n",
    "import numpy as np\n",
    "import matplotlib.pyplot as plt\n",
    "import json \n",
    "import bibtexparser #pip install bibtexparser\n",
    "import re"
   ]
  },
  {
   "cell_type": "markdown",
   "metadata": {},
   "source": [
    "Estas funciones son para cargar los datos de los archivos"
   ]
  },
  {
   "cell_type": "code",
   "execution_count": 2,
   "metadata": {},
   "outputs": [],
   "source": [
    "def cargarArchivotxt():\n",
    "    files = []\n",
    "    with open('./src/input_files.txt', 'r') as file:\n",
    "        for line in file:\n",
    "            # Dividir cada línea por la coma y agregar a la lista\n",
    "            files.append(line.strip().split(','))\n",
    "    return files\n",
    "\n",
    "def cargarJson():\n",
    "    archivoJson = {}\n",
    "    with open('./src/columnas.json', 'r') as file:\n",
    "        archivoJson = json.load(file)\n",
    "    return archivoJson"
   ]
  },
  {
   "cell_type": "markdown",
   "metadata": {},
   "source": [
    "Esta Funcion es Para unir todo en un solo CSV, y Limpiar los datos, eliminar repetidos, filtrar por la fecha > 2004, y dejar los valores nulos como \"sin valor\".\n"
   ]
  },
  {
   "cell_type": "code",
   "execution_count": 3,
   "metadata": {},
   "outputs": [],
   "source": [
    "# Función para limpiar y transformar los datos\n",
    "def clean_and_transform_csv(file_path, source):\n",
    "    # Leer el archivo CSV original\n",
    "    df = pd.read_csv(file_path)\n",
    "    \n",
    "    # Mapeo de columnas de los CSV originales a las columnas del nuevo formato\n",
    "    column_mapping = cargarJson()\n",
    "\n",
    "    # Crear un nuevo DataFrame con las columnas deseadas\n",
    "    new_df = pd.DataFrame()\n",
    "\n",
    "    for new_col, old_col in column_mapping.items():\n",
    "        if isinstance(old_col, list):\n",
    "            # Si es una lista de posibles nombres de columnas, usar la primera que exista\n",
    "            for col in old_col:\n",
    "                if col in df.columns:\n",
    "                    new_df[new_col] = df[col]\n",
    "                    break\n",
    "        else:\n",
    "            # Si es solo un nombre de columna\n",
    "            if old_col in df.columns:\n",
    "                new_df[new_col] = df[old_col]\n",
    "\n",
    "    # Rellenar la columna de \"Database\" con el nombre de la fuente de datos\n",
    "    new_df['Database'] = source\n",
    "\n",
    "    return new_df\n",
    "\n",
    "# Función para limpiar y transformar datos de .bib\n",
    "def clean_and_transform_bib(file_path, source):\n",
    "    with open(file_path, encoding='utf-8') as bibfile:\n",
    "        bib_database = bibtexparser.load(bibfile)\n",
    "\n",
    "    records = []\n",
    "    for entry in bib_database.entries:\n",
    "        # Eliminar caracteres no numéricos del final del año usando expresiones regulares\n",
    "        year_value = entry.get('year', 'Sin Valor')\n",
    "        year_value = re.sub(r'\\D+$', '', year_value)  # Sustituye caracteres no numéricos al final\n",
    "\n",
    "        record = {\n",
    "            'Authors': entry.get('author', 'Sin Valor'),\n",
    "            'Title': entry.get('title', 'Sin Valor'),\n",
    "            'Year': year_value,\n",
    "            'Volume': entry.get('volume', 'Sin Valor'),\n",
    "            'Issue': entry.get('number', 'Sin Valor'),\n",
    "            'Start Page': entry.get('pages', 'Sin Valor').split('-')[0] if 'pages' in entry else 'Sin Valor',\n",
    "            'End Page': entry.get('pages', 'Sin Valor').split('-')[1] if 'pages' in entry and '-' in entry['pages'] else 'Sin Valor',\n",
    "            'Abstract': entry.get('abstract', 'Sin Valor'),\n",
    "            'DOI': entry.get('doi', 'Sin Valor'),\n",
    "            'Author Keywords': entry.get('keywords', 'Sin Valor'),\n",
    "            'Publisher': entry.get('publisher','Sin Valor'),\n",
    "            'ISSN': entry.get('issn', 'Sin Valor'),\n",
    "            'ISBN': entry.get('isbn', 'Sin Valor'),\n",
    "            'Publication Title': entry.get('journal', 'Sin Valor'),\n",
    "            'Document Type': entry.get('entrytype', 'Sin Valor'),\n",
    "            'Article Citation Count': entry.get('citation', 'Sin Valor'),\n",
    "            'Link': entry.get('url', entry.get('URL', 'Sin Valor')),\n",
    "            'Database': source\n",
    "        }\n",
    "        records.append(record)\n",
    "\n",
    "    return pd.DataFrame(records)"
   ]
  },
  {
   "cell_type": "code",
   "execution_count": 4,
   "metadata": {},
   "outputs": [
    {
     "name": "stdout",
     "output_type": "stream",
     "text": [
      "Archivo CSV combinado y filtrado guardado en: ../CSV final/baseDatosFinal.csv\n"
     ]
    }
   ],
   "source": [
    "# Archivos de entrada\n",
    "files = cargarArchivotxt()\n",
    "# Lista para almacenar los DataFrames procesados\n",
    "dataframes = []\n",
    "\n",
    "# Limpiar y transformar los archivos\n",
    "for file in files:\n",
    "    if file[0].endswith('.csv'):\n",
    "        df = clean_and_transform_csv(file[0], file[1])\n",
    "    elif file[0].endswith('.bib'):\n",
    "        df = clean_and_transform_bib(file[0], file[1])\n",
    "    dataframes.append(df)\n",
    "\n",
    "\n",
    "# Concatenar los dos DataFrames\n",
    "combined_df = pd.concat(dataframes, ignore_index=True)\n",
    "\n",
    "#Eliminar duplicados basados en el DOI (o cualquier otra columna única)\n",
    "combined_df.drop_duplicates(subset='DOI', keep='first', inplace=True)\n",
    "\n",
    "# Convertir la columna 'Year' a entero\n",
    "combined_df['Year'] = combined_df['Year'].astype(int)\n",
    "\n",
    "# Filtrar artículos con año de publicación menor que 2004\n",
    "combined_df = combined_df[(combined_df['Year'] >= 2004) & (combined_df['Year'] <= 2024)]\n",
    "\n",
    "# Reemplazar valores nulos con \"Sin Valor\"\n",
    "combined_df.fillna(\"Sin Valor\", inplace=True)\n",
    "\n",
    "# Guardar el DataFrame combinado y filtrado en un nuevo archivo CSV\n",
    "output_file = '../CSV final/baseDatosFinal.csv'\n",
    "combined_df.to_csv(output_file, index=False)\n",
    "\n",
    "print(f\"Archivo CSV combinado y filtrado guardado en: {output_file}\")\n"
   ]
  },
  {
   "cell_type": "code",
   "execution_count": 5,
   "metadata": {},
   "outputs": [
    {
     "data": {
      "text/plain": [
       "<Axes: xlabel='Year'>"
      ]
     },
     "execution_count": 5,
     "metadata": {},
     "output_type": "execute_result"
    },
    {
     "data": {
      "image/png": "[encoded data removed]",
      "text/plain": [
       "<Figure size 640x480 with 1 Axes>"
      ]
     },
     "metadata": {},
     "output_type": "display_data"
    }
   ],
   "source": [
    "tabla = pd.read_csv('../CSV final/baseDatosFinal.csv')\n",
    "fechas = tabla['Year'].value_counts()\n",
    "fechas.plot.bar()"
   ]
  }
 ],
 "metadata": {
  "kernelspec": {
   "display_name": "Python 3",
   "language": "python",
   "name": "python3"
  },
  "language_info": {
   "codemirror_mode": {
    "name": "ipython",
    "version": 3
   },
   "file_extension": ".py",
   "mimetype": "text/x-python",
   "name": "python",
   "nbconvert_exporter": "python",
   "pygments_lexer": "ipython3",
   "version": "3.12.6"
  }
 },
 "nbformat": 4,
 "nbformat_minor": 2
}
